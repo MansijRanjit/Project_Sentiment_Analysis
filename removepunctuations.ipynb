{
 "cells": [
  {
   "cell_type": "code",
   "execution_count": 1,
   "metadata": {},
   "outputs": [
    {
     "ename": "UnicodeDecodeError",
     "evalue": "'charmap' codec can't decode byte 0x8d in position 1824: character maps to <undefined>",
     "output_type": "error",
     "traceback": [
      "\u001b[1;31m---------------------------------------------------------------------------\u001b[0m",
      "\u001b[1;31mUnicodeDecodeError\u001b[0m                        Traceback (most recent call last)",
      "Cell \u001b[1;32mIn[1], line 8\u001b[0m\n\u001b[0;32m      6\u001b[0m \u001b[39m# Read the content of the input file\u001b[39;00m\n\u001b[0;32m      7\u001b[0m \u001b[39mwith\u001b[39;00m \u001b[39mopen\u001b[39m(input_file, \u001b[39m\"\u001b[39m\u001b[39mr\u001b[39m\u001b[39m\"\u001b[39m) \u001b[39mas\u001b[39;00m file:\n\u001b[1;32m----> 8\u001b[0m     content \u001b[39m=\u001b[39m file\u001b[39m.\u001b[39;49mread()\n\u001b[0;32m     10\u001b[0m punctuations \u001b[39m=\u001b[39m string\u001b[39m.\u001b[39mpunctuation\u001b[39m.\u001b[39mreplace(\u001b[39m\"\u001b[39m\u001b[39m-\u001b[39m\u001b[39m\"\u001b[39m, \u001b[39m\"\u001b[39m\u001b[39m\"\u001b[39m)\n\u001b[0;32m     12\u001b[0m \u001b[39m# Remove numbers, commas, and backslashes from the content\u001b[39;00m\n",
      "File \u001b[1;32mC:\\Python311\\Lib\\encodings\\cp1252.py:23\u001b[0m, in \u001b[0;36mIncrementalDecoder.decode\u001b[1;34m(self, input, final)\u001b[0m\n\u001b[0;32m     22\u001b[0m \u001b[39mdef\u001b[39;00m \u001b[39mdecode\u001b[39m(\u001b[39mself\u001b[39m, \u001b[39minput\u001b[39m, final\u001b[39m=\u001b[39m\u001b[39mFalse\u001b[39;00m):\n\u001b[1;32m---> 23\u001b[0m     \u001b[39mreturn\u001b[39;00m codecs\u001b[39m.\u001b[39mcharmap_decode(\u001b[39minput\u001b[39m,\u001b[39mself\u001b[39m\u001b[39m.\u001b[39merrors,decoding_table)[\u001b[39m0\u001b[39m]\n",
      "\u001b[1;31mUnicodeDecodeError\u001b[0m: 'charmap' codec can't decode byte 0x8d in position 1824: character maps to <undefined>"
     ]
    }
   ],
   "source": [
    "import string\n",
    "\n",
    "input_file = \"nepalisample.txt\"  # Specify the path to your input file\n",
    "output_file = \"nepalisample2.txt\"  # Specify the path to the output file\n",
    "\n",
    "# Read the content of the input file\n",
    "with open(input_file, \"r\") as file:\n",
    "    content = file.read()\n",
    "\n",
    "punctuations = string.punctuation.replace(\"-\", \"\")\n",
    "\n",
    "# Remove numbers, commas, and backslashes from the content\n",
    "filtered_content = ''.join(char for char in content if not char.isdigit() and char not in punctuations)\n",
    "\n",
    "# Write the filtered content to the output file\n",
    "with open(output_file, \"w\") as file:\n",
    "    file.write(filtered_content)\n",
    "\n",
    "print(\"Filtered content has been written to\", output_file)"
   ]
  },
  {
   "cell_type": "code",
   "execution_count": 1,
   "metadata": {},
   "outputs": [],
   "source": [
    "appendText = '_'\n",
    "with open(\"englishsample.txt\", 'r') as names:\n",
    "    with open(\"englishsample2.txt\", 'a') as updatedNames:\n",
    "        for name in names:\n",
    "            updatedNames.write(appendText + name)"
   ]
  },
  {
   "cell_type": "code",
   "execution_count": 2,
   "metadata": {},
   "outputs": [],
   "source": [
    "appendText = '_'\n",
    "with open(\"Romanized_Nepali_Dataset.txt\", 'r') as names:\n",
    "    with open(\"Romanized_Nepali_Dataset2.txt\", 'a') as updatedNames:\n",
    "        for name in names:\n",
    "            updatedNames.write(appendText + name)"
   ]
  }
 ],
 "metadata": {
  "kernelspec": {
   "display_name": "projenv",
   "language": "python",
   "name": "python3"
  },
  "language_info": {
   "codemirror_mode": {
    "name": "ipython",
    "version": 3
   },
   "file_extension": ".py",
   "mimetype": "text/x-python",
   "name": "python",
   "nbconvert_exporter": "python",
   "pygments_lexer": "ipython3",
   "version": "3.11.0"
  },
  "orig_nbformat": 4
 },
 "nbformat": 4,
 "nbformat_minor": 2
}
